{
 "cells": [
  {
   "cell_type": "code",
   "execution_count": null,
   "metadata": {},
   "outputs": [],
   "source": [
    "# https://plotly.com/python/click-events/"
   ]
  },
  {
   "cell_type": "code",
   "execution_count": 2,
   "metadata": {},
   "outputs": [
    {
     "data": {
      "application/vnd.jupyter.widget-view+json": {
       "model_id": "c1b3a7f7882047b7a4816719fd1f806c",
       "version_major": 2,
       "version_minor": 0
      },
      "text/plain": [
       "FigureWidget({\n",
       "    'data': [{'marker': {'color': [#a3a7e4, #a3a7e4, #a3a7e4, #a3a7e4, #a3a7e4,\n",
       "               …"
      ]
     },
     "metadata": {},
     "output_type": "display_data"
    }
   ],
   "source": [
    "import plotly.graph_objects as go\n",
    "\n",
    "import numpy as np\n",
    "np.random.seed(1)\n",
    "\n",
    "x = np.random.rand(100)\n",
    "y = np.random.rand(100)\n",
    "\n",
    "f = go.FigureWidget([go.Scatter(x=x, y=y, mode='markers')])\n",
    "\n",
    "scatter = f.data[0]\n",
    "colors = ['#a3a7e4'] * 100\n",
    "scatter.marker.color = colors\n",
    "scatter.marker.size = [10] * 100\n",
    "f.layout.hovermode = 'closest'\n",
    "\n",
    "\n",
    "# create our callback function\n",
    "def update_point(trace, points, selector):\n",
    "    c = list(scatter.marker.color)\n",
    "    s = list(scatter.marker.size)\n",
    "\n",
    "    with open(\"out_data/output.txt\", \"a\") as text_file:\n",
    "        text_file.write(\"TEMP1\" + \"\\n\")\n",
    "\n",
    "    for i in points.point_inds:\n",
    "        c[i] = '#bae2be'\n",
    "        s[i] = 20\n",
    "        with f.batch_update():\n",
    "            scatter.marker.color = c\n",
    "            scatter.marker.size = s\n",
    "\n",
    "\n",
    "scatter.on_click(update_point)\n",
    "\n",
    "f"
   ]
  },
  {
   "cell_type": "code",
   "execution_count": 3,
   "metadata": {},
   "outputs": [],
   "source": [
    "with open(\"out_data/output.txt\", \"a\") as text_file:\n",
    "    text_file.write(\"TEMP\\n\")"
   ]
  }
 ],
 "metadata": {
  "kernelspec": {
   "display_name": "Python [conda env:PROJ_irox_oer] *",
   "language": "python",
   "name": "conda-env-PROJ_irox_oer-py"
  },
  "language_info": {
   "codemirror_mode": {
    "name": "ipython",
    "version": 3
   },
   "file_extension": ".py",
   "mimetype": "text/x-python",
   "name": "python",
   "nbconvert_exporter": "python",
   "pygments_lexer": "ipython3",
   "version": "3.6.10"
  }
 },
 "nbformat": 4,
 "nbformat_minor": 4
}
